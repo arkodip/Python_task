{
 "cells": [
  {
   "cell_type": "code",
   "execution_count": 1,
   "metadata": {},
   "outputs": [
    {
     "name": "stdout",
     "output_type": "stream",
     "text": [
      "Enter number of elements in list: 5\n",
      "Enter elements: 32\n",
      "Enter elements: 4\n",
      "Enter elements: 59\n",
      "Enter elements: 52\n",
      "Enter elements: 23\n",
      "Largest element is: 59\n"
     ]
    }
   ],
   "source": [
    "list1 = [] \n",
    "num = int(input(\"Enter number of elements in list: \"))  \n",
    "for i in range(1, num + 1): \n",
    "    ele = int(input(\"Enter elements: \")) \n",
    "    list1.append(ele) \n",
    "print(\"Largest element is:\", max(list1)) "
   ]
  },
  {
   "cell_type": "code",
   "execution_count": null,
   "metadata": {},
   "outputs": [],
   "source": []
  }
 ],
 "metadata": {
  "kernelspec": {
   "display_name": "Python 3",
   "language": "python",
   "name": "python3"
  },
  "language_info": {
   "codemirror_mode": {
    "name": "ipython",
    "version": 3
   },
   "file_extension": ".py",
   "mimetype": "text/x-python",
   "name": "python",
   "nbconvert_exporter": "python",
   "pygments_lexer": "ipython3",
   "version": "3.8.3"
  }
 },
 "nbformat": 4,
 "nbformat_minor": 4
}
